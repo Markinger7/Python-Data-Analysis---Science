{
 "cells": [
  {
   "cell_type": "markdown",
   "metadata": {},
   "source": [
    "### Regex with Python\n",
    "\n",
    "Resources for this notebook:\n",
    "- https://towardsdatascience.com/a-simple-intro-to-regex-with-python-14d23a34d170\n",
    "\n",
    "Regex is used to find a predefined pattern in a string. Which is important for extracting different information e.g from a column in a DataFrame which has more than one 'varibale' in it: \n",
    "- ('Texas2015Q3') -> 'Texas' / '2015' / 'Q3'\n",
    "\n",
    "\n",
    "link to the docs: https://docs.python.org/3/howto/regex.html"
   ]
  },
  {
   "cell_type": "code",
   "execution_count": 1,
   "metadata": {},
   "outputs": [],
   "source": [
    "# to use regex we need to import re\n",
    "import re"
   ]
  },
  {
   "cell_type": "code",
   "execution_count": 2,
   "metadata": {},
   "outputs": [],
   "source": [
    "string1 = 'Python is great for Data Science'\n",
    "string2 = 'python is grate for Data Science'\n",
    "pattern = r'Python'"
   ]
  },
  {
   "cell_type": "markdown",
   "metadata": {},
   "source": [
    "#### `match` \n",
    "- takes a pattern and trys to find it in a givin string"
   ]
  },
  {
   "cell_type": "code",
   "execution_count": 3,
   "metadata": {},
   "outputs": [
    {
     "name": "stdout",
     "output_type": "stream",
     "text": [
      "matches\n"
     ]
    }
   ],
   "source": [
    "if re.match(pattern, string1):\n",
    "    print('matches')\n",
    "else: print('no match')"
   ]
  },
  {
   "cell_type": "code",
   "execution_count": 4,
   "metadata": {},
   "outputs": [
    {
     "name": "stdout",
     "output_type": "stream",
     "text": [
      "no match\n"
     ]
    }
   ],
   "source": [
    "if re.match(pattern, string2):\n",
    "    print('matches')\n",
    "else: print('no match')"
   ]
  },
  {
   "cell_type": "markdown",
   "metadata": {},
   "source": [
    "#### `compile` a regular expression pattern\n",
    "- we can use complie to give a variable the pattern and call a match function on this varibale with a givin string"
   ]
  },
  {
   "cell_type": "code",
   "execution_count": 5,
   "metadata": {},
   "outputs": [],
   "source": [
    "app = re.compile(pattern)"
   ]
  },
  {
   "cell_type": "code",
   "execution_count": 6,
   "metadata": {},
   "outputs": [
    {
     "data": {
      "text/plain": [
       "<re.Match object; span=(0, 6), match='Python'>"
      ]
     },
     "execution_count": 6,
     "metadata": {},
     "output_type": "execute_result"
    }
   ],
   "source": [
    "app.match(string1)\n",
    "# should return a re.Match object"
   ]
  },
  {
   "cell_type": "code",
   "execution_count": 7,
   "metadata": {},
   "outputs": [],
   "source": [
    "app.match(string2)\n",
    "# there should be no return since pattern='Python' isn't in string2"
   ]
  },
  {
   "cell_type": "markdown",
   "metadata": {},
   "source": [
    "#### Positional matching"
   ]
  },
  {
   "cell_type": "code",
   "execution_count": 8,
   "metadata": {},
   "outputs": [],
   "source": [
    "# lets serach for Science in DataScience\n",
    "app2 = re.compile(r'Science') "
   ]
  },
  {
   "cell_type": "code",
   "execution_count": 9,
   "metadata": {},
   "outputs": [
    {
     "data": {
      "text/plain": [
       "<re.Match object; span=(4, 11), match='Science'>"
      ]
     },
     "execution_count": 9,
     "metadata": {},
     "output_type": "execute_result"
    }
   ],
   "source": [
    "# with pos we can check if a pattern is at a specific position in the string\n",
    "app2.match('DataScience', pos = 4)"
   ]
  },
  {
   "cell_type": "markdown",
   "metadata": {},
   "source": [
    "#### Use case for positional matching\n",
    "check which words in a list are ending with 'ing'"
   ]
  },
  {
   "cell_type": "code",
   "execution_count": 10,
   "metadata": {},
   "outputs": [
    {
     "name": "stdout",
     "output_type": "stream",
     "text": [
      "Spring has ing at the end\n",
      "Cycling has ing at the end\n",
      "Ringtone doesn't have ing at the end\n"
     ]
    }
   ],
   "source": [
    "list_of_words = ['Spring', 'Cycling', 'Ringtone']\n",
    "app3 = re.compile(r'ing')\n",
    "for w in list_of_words:\n",
    "    if app3.match(w, pos = len(w)-3) != None:\n",
    "        print('{} has ing at the end'.format(w))\n",
    "    else: \n",
    "        print(\"{} doesn't have ing at the end\".format(w))"
   ]
  },
  {
   "cell_type": "markdown",
   "metadata": {},
   "source": [
    "#### `search`\n",
    "returns the pos and span of the pattern in the String"
   ]
  },
  {
   "cell_type": "code",
   "execution_count": 11,
   "metadata": {},
   "outputs": [],
   "source": [
    "app4 = re.compile(r'Science')"
   ]
  },
  {
   "cell_type": "code",
   "execution_count": 12,
   "metadata": {},
   "outputs": [
    {
     "data": {
      "text/plain": [
       "<re.Match object; span=(4, 11), match='Science'>"
      ]
     },
     "execution_count": 12,
     "metadata": {},
     "output_type": "execute_result"
    }
   ],
   "source": [
    "app4.search('DataScience')"
   ]
  },
  {
   "cell_type": "markdown",
   "metadata": {},
   "source": [
    "Use case for serach method:\n",
    "- check which couse has 'Psychology' in its title"
   ]
  },
  {
   "cell_type": "code",
   "execution_count": 13,
   "metadata": {},
   "outputs": [],
   "source": [
    "list_of_courses = ['Current Issues in Business Psychology', 'Managing Group Processes', 'Economic and Business Ethics',\n",
    "                   'Psychology of Brand Management', 'Marketing and Consumer Psychology', 'Training and Consulting']"
   ]
  },
  {
   "cell_type": "code",
   "execution_count": 14,
   "metadata": {},
   "outputs": [
    {
     "name": "stdout",
     "output_type": "stream",
     "text": [
      "Course Current Issues in Business Psychology has \"Psychology\" in its title\n",
      "Course Managing Group Processes does not have 'Psychology' in its title\n",
      "Course Economic and Business Ethics does not have 'Psychology' in its title\n",
      "Course Psychology of Brand Management has \"Psychology\" in its title\n",
      "Course Marketing and Consumer Psychology has \"Psychology\" in its title\n",
      "Course Training and Consulting does not have 'Psychology' in its title\n"
     ]
    }
   ],
   "source": [
    "app5 = re.compile(r'Psychology')\n",
    "for w in list_of_courses:\n",
    "    if app5.search(w) != None:\n",
    "        print('Course {} has \"Psychology\" in its title'.format(w))\n",
    "    else:\n",
    "        print(\"Course {} does not have 'Psychology' in its title\".format(w))"
   ]
  },
  {
   "cell_type": "markdown",
   "metadata": {},
   "source": [
    "we can use the span() function after the search method to get a tuple with the start and end position of the pattern"
   ]
  },
  {
   "cell_type": "code",
   "execution_count": 15,
   "metadata": {},
   "outputs": [],
   "source": [
    "pos = app5.search('Current Issues in Business Psychology')"
   ]
  },
  {
   "cell_type": "code",
   "execution_count": 16,
   "metadata": {},
   "outputs": [
    {
     "data": {
      "text/plain": [
       "(27, 37)"
      ]
     },
     "execution_count": 16,
     "metadata": {},
     "output_type": "execute_result"
    }
   ],
   "source": [
    "pos.span()"
   ]
  },
  {
   "cell_type": "code",
   "execution_count": 17,
   "metadata": {},
   "outputs": [
    {
     "data": {
      "text/plain": [
       "27"
      ]
     },
     "execution_count": 17,
     "metadata": {},
     "output_type": "execute_result"
    }
   ],
   "source": [
    "pos.span()[0]"
   ]
  },
  {
   "cell_type": "markdown",
   "metadata": {},
   "source": [
    "#### `findall` and `finditer` methods\n",
    "- is like search but returns all matched patterns, whereas the search method only returns the first one\n",
    "- `findall`: returns a list with the matching pattern (a list with the pattern)\n",
    "- `finditer`: produces an iterator (more information with pos and span)"
   ]
  },
  {
   "cell_type": "code",
   "execution_count": 18,
   "metadata": {},
   "outputs": [],
   "source": [
    "# define a regular expression pattern\n",
    "app6 = re.compile(r'a')"
   ]
  },
  {
   "cell_type": "code",
   "execution_count": 19,
   "metadata": {},
   "outputs": [
    {
     "data": {
      "text/plain": [
       "['a', 'a', 'a']"
      ]
     },
     "execution_count": 19,
     "metadata": {},
     "output_type": "execute_result"
    }
   ],
   "source": [
    "app6.findall(string1)\n",
    "# three 'a' in 'Python is a great for Data Science'"
   ]
  },
  {
   "cell_type": "code",
   "execution_count": 20,
   "metadata": {},
   "outputs": [
    {
     "name": "stdout",
     "output_type": "stream",
     "text": [
      "<re.Match object; span=(13, 14), match='a'>\n",
      "<re.Match object; span=(21, 22), match='a'>\n",
      "<re.Match object; span=(23, 24), match='a'>\n"
     ]
    }
   ],
   "source": [
    "for i in app6.finditer(string1):\n",
    "    print(i)"
   ]
  },
  {
   "cell_type": "markdown",
   "metadata": {},
   "source": [
    "#### Wildcard matching\n",
    "'wildcard matching' of 'fuzzy matching' is used when we don't have the full pattern but still want to find where something similar in the text appears."
   ]
  },
  {
   "cell_type": "code",
   "execution_count": 21,
   "metadata": {},
   "outputs": [
    {
     "name": "stdout",
     "output_type": "stream",
     "text": [
      "Data\n",
      "Data\n"
     ]
    }
   ],
   "source": [
    "# Single character matching with '.'\n",
    "app = re.compile(r'Dat.')\n",
    "print(app.search('Data Science').group())\n",
    "print(app.search('Data Analysis').group())"
   ]
  },
  {
   "cell_type": "code",
   "execution_count": 22,
   "metadata": {},
   "outputs": [
    {
     "name": "stdout",
     "output_type": "stream",
     "text": [
      "<re.Match object; span=(0, 4), match='Data'>\n"
     ]
    }
   ],
   "source": [
    "# used group() to gather the match and not the pos\n",
    "print(app.search('Data Analysis'))"
   ]
  },
  {
   "cell_type": "markdown",
   "metadata": {},
   "source": [
    "The `.` is limited to alphabetical characters.\n",
    "\n",
    "With `\\w` we can match any single letter, digit or underscore"
   ]
  },
  {
   "cell_type": "code",
   "execution_count": 23,
   "metadata": {},
   "outputs": [
    {
     "name": "stdout",
     "output_type": "stream",
     "text": [
      "Data\n",
      "D4t4\n",
      "Dat_\n"
     ]
    }
   ],
   "source": [
    "# '\\w' to match any single letter, digit or underscore\n",
    "app = re.compile(r'D\\wt\\w')\n",
    "print(app.search('Data Science').group())\n",
    "print(app.search('D4t4 Science').group())\n",
    "print(app.search('Dat_ Science').group())"
   ]
  },
  {
   "cell_type": "markdown",
   "metadata": {},
   "source": [
    "##### `\\W` matches anything not covered with `\\w`"
   ]
  },
  {
   "cell_type": "code",
   "execution_count": 24,
   "metadata": {},
   "outputs": [
    {
     "name": "stdout",
     "output_type": "stream",
     "text": [
      "9/11\n",
      "9.11\n",
      "9-11\n"
     ]
    }
   ],
   "source": [
    "app = re.compile(r'9\\W11')\n",
    "print(app.search('9/11 was a terrible day').group())\n",
    "print(app.search('9.11 was a terrible day').group())\n",
    "print(app.search('9-11 was a terrible day').group())"
   ]
  },
  {
   "cell_type": "markdown",
   "metadata": {},
   "source": [
    "##### Matching patterns with whitespace characters `\s`\n",
    "- matches single whitespace character like space, newline, tab and return"
   ]
  },
  {
   "cell_type": "code",
   "execution_count": 25,
   "metadata": {},
   "outputs": [
    {
     "name": "stdout",
     "output_type": "stream",
     "text": [
      "Data Analysis\n",
      "Data Analysis\n"
     ]
    }
   ],
   "source": [
    "app = re.compile(r'Data\\sAnalysis')\n",
    "print(app.search('Data Analysis with Python is easy').group())\n",
    "print(app.search('You can use Python for Data Analysis').group())"
   ]
  },
  {
   "cell_type": "markdown",
   "metadata": {},
   "source": [
    "##### `\\d` matches numerical digits 0–9"
   ]
  },
  {
   "cell_type": "code",
   "execution_count": 26,
   "metadata": {},
   "outputs": [
    {
     "name": "stdout",
     "output_type": "stream",
     "text": [
      "85\n",
      "95\n"
     ]
    }
   ],
   "source": [
    "app = re.compile(r'\\d\\d')\n",
    "print(app.search('I scored 85').group())\n",
    "print(app.search('He scored 95').group())"
   ]
  },
  {
   "cell_type": "markdown",
   "metadata": {},
   "source": [
    "##### Start of the String with `^`\n",
    "- only matches a pattern at the beginning of the string"
   ]
  },
  {
   "cell_type": "code",
   "execution_count": 27,
   "metadata": {},
   "outputs": [],
   "source": [
    "# write a simple function to quickly check it an have a nice output\n",
    "app = re.compile(r'^Data\\sScience')\n",
    "def in_string(s): # function take a string as input\n",
    "    if app.search(s) != None: # searches the string for the pattern\n",
    "        print('match')\n",
    "    else:\n",
    "        print('no match')"
   ]
  },
  {
   "cell_type": "code",
   "execution_count": 28,
   "metadata": {},
   "outputs": [
    {
     "name": "stdout",
     "output_type": "stream",
     "text": [
      "match\n",
      "no match\n"
     ]
    }
   ],
   "source": [
    "in_string('Data Science is cool')\n",
    "in_string('I like Data Science')"
   ]
  },
  {
   "cell_type": "markdown",
   "metadata": {},
   "source": [
    "##### End of String with `$`\n",
    "- only matches a pattern at the end of the string\n",
    "\n",
    "lets use this to extract the Patent number from a list, when the patent belongs to Apple:"
   ]
  },
  {
   "cell_type": "code",
   "execution_count": 29,
   "metadata": {},
   "outputs": [],
   "source": [
    "list_with_patents = ['Patent no. 12345 belongs to Apple',\n",
    "                    'Patent no. 67891 belongs to Microsoft',\n",
    "                    'Patent no. 23456 belongs to Apple',\n",
    "                    'Patent no. 78912 belongs to Samsung',\n",
    "                    'Patent no. 34567 belongs to Microsoft',\n",
    "                   ]\n",
    "\n",
    "# creat pattern for company and patent no.\n",
    "company = re.compile(r'Apple$')\n",
    "patent_no = re.compile(r'\\d\\d\\d\\d\\d')"
   ]
  },
  {
   "cell_type": "code",
   "execution_count": 30,
   "metadata": {},
   "outputs": [
    {
     "name": "stdout",
     "output_type": "stream",
     "text": [
      "Apple owns patent no.: 12345\n",
      "patent not form Apple\n",
      "Apple owns patent no.: 23456\n",
      "patent not form Apple\n",
      "patent not form Apple\n"
     ]
    }
   ],
   "source": [
    "for i in list_with_patents:\n",
    "    if company.search(i) != None:\n",
    "        print('Apple owns patent no.:', patent_no.search(i).group())\n",
    "    else:\n",
    "        print('patent not form Apple')"
   ]
  },
  {
   "cell_type": "markdown",
   "metadata": {},
   "source": [
    "#### Wildcard matching (with multiple characters)"
   ]
  },
  {
   "cell_type": "code",
   "execution_count": 31,
   "metadata": {},
   "outputs": [],
   "source": [
    "# first create a function to show the output from the pattern matching and when there is no match \n",
    "# the function takes a string and the regular expression \n",
    "#def print_pattern(s, reg):\n",
    "#    app = re.compile(reg)\n",
    "#    if app.search(s) != None:\n",
    "#        print(app.search(s).group())\n",
    "#    else:\n",
    "#        print('no match')"
   ]
  },
  {
   "cell_type": "code",
   "execution_count": 32,
   "metadata": {},
   "outputs": [],
   "source": [
    "def print_pattern(s):\n",
    "    if app.search(s) != None:\n",
    "        print(app.search(s).group())\n",
    "    else:\n",
    "        print('no match')"
   ]
  },
  {
   "cell_type": "markdown",
   "metadata": {},
   "source": [
    "##### `*` matches 0 or more repetitions of the preceding regular expression"
   ]
  },
  {
   "cell_type": "code",
   "execution_count": 33,
   "metadata": {},
   "outputs": [
    {
     "name": "stdout",
     "output_type": "stream",
     "text": [
      "a\n",
      "ab\n",
      "abbb\n",
      "a\n",
      "no match\n"
     ]
    }
   ],
   "source": [
    "app = re.compile(r'ab*')\n",
    "\n",
    "print_pattern('a')\n",
    "print_pattern('ab')\n",
    "print_pattern('abbb')\n",
    "print_pattern('aabbb')\n",
    "print_pattern('b')"
   ]
  },
  {
   "cell_type": "markdown",
   "metadata": {},
   "source": [
    "##### `+` matches 1 or more repetitions"
   ]
  },
  {
   "cell_type": "code",
   "execution_count": 34,
   "metadata": {},
   "outputs": [
    {
     "name": "stdout",
     "output_type": "stream",
     "text": [
      "no match\n",
      "ab\n",
      "abbb\n",
      "abbb\n",
      "no match\n"
     ]
    }
   ],
   "source": [
    "app = re.compile(r'ab+')\n",
    "\n",
    "print_pattern('a')\n",
    "print_pattern('ab')\n",
    "print_pattern('abbb')\n",
    "print_pattern('aabbb')\n",
    "print_pattern('b')"
   ]
  },
  {
   "cell_type": "markdown",
   "metadata": {},
   "source": [
    "##### `?` matches precisely 0 or 1 repetition"
   ]
  },
  {
   "cell_type": "code",
   "execution_count": 35,
   "metadata": {},
   "outputs": [
    {
     "name": "stdout",
     "output_type": "stream",
     "text": [
      "a\n",
      "ab\n",
      "ab\n",
      "a\n",
      "no match\n"
     ]
    }
   ],
   "source": [
    "app = re.compile(r'ab?')\n",
    "\n",
    "print_pattern('a')\n",
    "print_pattern('ab')\n",
    "print_pattern('abbb')\n",
    "print_pattern('aabbb')\n",
    "print_pattern('b')"
   ]
  },
  {
   "cell_type": "markdown",
   "metadata": {},
   "source": [
    "##### `{m,n}` controls how many repetitions to match\n",
    "- `m`: lower bound\n",
    "- `n`: higher bound"
   ]
  },
  {
   "cell_type": "code",
   "execution_count": 36,
   "metadata": {},
   "outputs": [
    {
     "name": "stdout",
     "output_type": "stream",
     "text": [
      "no match\n",
      "no match\n",
      "aaa\n",
      "aaa\n"
     ]
    }
   ],
   "source": [
    "app = re.compile(r'a{3}')\n",
    "\n",
    "print_pattern('a')\n",
    "print_pattern('aa')\n",
    "print_pattern('aaa')\n",
    "print_pattern('aaaa')"
   ]
  },
  {
   "cell_type": "code",
   "execution_count": 37,
   "metadata": {},
   "outputs": [
    {
     "name": "stdout",
     "output_type": "stream",
     "text": [
      "a\n",
      "aa\n",
      "aa\n",
      "aa\n"
     ]
    }
   ],
   "source": [
    "app = re.compile(r'a{,2}')\n",
    "\n",
    "print_pattern('a')\n",
    "print_pattern('aa')\n",
    "print_pattern('aaa')\n",
    "print_pattern('aaaa')"
   ]
  },
  {
   "cell_type": "markdown",
   "metadata": {},
   "source": [
    "##### `[x,x,x]` creats a set of matching characters\n",
    "- matches the first character from the given set "
   ]
  },
  {
   "cell_type": "code",
   "execution_count": 38,
   "metadata": {},
   "outputs": [
    {
     "name": "stdout",
     "output_type": "stream",
     "text": [
      "a\n",
      "b\n",
      "b\n",
      "c\n"
     ]
    }
   ],
   "source": [
    "app = re.compile(r'[a,b,c]')\n",
    "\n",
    "print_pattern('xxxaxxx')\n",
    "print_pattern('bxxaxxx')\n",
    "print_pattern('bxxaxxc')\n",
    "print_pattern('cxxaxxc')"
   ]
  },
  {
   "cell_type": "markdown",
   "metadata": {},
   "source": [
    "##### `[a-z,A-Z]` creats a range of characters inside a set\n",
    "- this is one of the most used regual expression\n",
    "\n",
    "lets extract the the email from a string:"
   ]
  },
  {
   "cell_type": "code",
   "execution_count": 39,
   "metadata": {},
   "outputs": [
    {
     "name": "stdout",
     "output_type": "stream",
     "text": [
      "linusRanger@icloud.com\n",
      "no match\n"
     ]
    }
   ],
   "source": [
    "app = re.compile(r'[a-zA-Z]+@+[a-zA-Z]+.+[a-zA-Z]')\n",
    "\n",
    "print_pattern('Hello, you can reach me at linusRanger@icloud.com')\n",
    "print_pattern('Hello, you can reach me at 1234klard183215@web.com')"
   ]
  },
  {
   "cell_type": "code",
   "execution_count": 40,
   "metadata": {},
   "outputs": [
    {
     "name": "stdout",
     "output_type": "stream",
     "text": [
      "1234klard1832@web.com\n"
     ]
    }
   ],
   "source": [
    "# lets include numbers in the regular expression\n",
    "app = re.compile(r'[a-zA-Z0-9]+@+[a-zA-Z]+.+[a-zA-Z]')\n",
    "\n",
    "print_pattern('Hello, you can reach me at 1234klard1832@web.com')"
   ]
  },
  {
   "cell_type": "code",
   "execution_count": 41,
   "metadata": {},
   "outputs": [
    {
     "name": "stdout",
     "output_type": "stream",
     "text": [
      "linusRanger@icloud.com\n",
      "linusRanger23@icloud23.com\n"
     ]
    }
   ],
   "source": [
    "# regex for email extraction\n",
    "app = re.compile(r'\\w+@\\w+\\.+[a-z]{2,3}')\n",
    "\n",
    "print_pattern('linusRanger@icloud.com')\n",
    "print_pattern('linusRanger23@icloud23.com')"
   ]
  },
  {
   "cell_type": "markdown",
   "metadata": {},
   "source": [
    "##### Combining the power of Regex by OR-ing with `|`\n",
    "Problem: extract phone numbers with different formats"
   ]
  },
  {
   "cell_type": "code",
   "execution_count": 42,
   "metadata": {},
   "outputs": [
    {
     "name": "stdout",
     "output_type": "stream",
     "text": [
      "1234567891\n",
      " 123-456-7891\n",
      " 123 456 7891\n",
      "(123)456-7891\n",
      " 123.456.7891\n",
      "+22 123-456-7891\n"
     ]
    }
   ],
   "source": [
    "re1 = r'\\d{10}'\n",
    "re2 = r'\\d{3}\\W\\d{3}\\W\\d{4}'\n",
    "re3 = r'\\d{3}\\s\\d{3}\\s\\d{4}'\n",
    "re4 = r'\\W\\d{3}\\W\\d{3}\\W\\d{4}'\n",
    "re6 = r'\\W\\d{2}\\s\\d{3}\\W\\d{3}\\W\\d{4}'\n",
    "\n",
    "pattern = re1+'|'+re2+'|'+re3+'|'+re4+'|'+re6\n",
    "\n",
    "app = re.compile(pattern)\n",
    "\n",
    "print_pattern('My number is: 1234567891')\n",
    "print_pattern('My number is: 123-456-7891')\n",
    "print_pattern('My number is: 123 456 7891')\n",
    "print_pattern('My number is: (123)456-7891')\n",
    "print_pattern('My number is: 123.456.7891')\n",
    "print_pattern('My number is: +22 123-456-7891')"
   ]
  },
  {
   "cell_type": "markdown",
   "metadata": {},
   "source": [
    "##### Find phone number with 123 code at the beginning in a Text\n",
    "- for this task we can use `findall` to give us a list with the matched pattern"
   ]
  },
  {
   "cell_type": "code",
   "execution_count": 43,
   "metadata": {},
   "outputs": [],
   "source": [
    "string = '''Messages from the folloing phone numbers were recorded:\n",
    "123-456-7891, 345-568-9011, 123.654.1111, 44 126 276 3322'''"
   ]
  },
  {
   "cell_type": "code",
   "execution_count": 44,
   "metadata": {},
   "outputs": [
    {
     "data": {
      "text/plain": [
       "['123-456-7891', '123.654.1111']"
      ]
     },
     "execution_count": 44,
     "metadata": {},
     "output_type": "execute_result"
    }
   ],
   "source": [
    "re.findall(r'123\\W\\d{3}\\W\\d{4}', string)"
   ]
  },
  {
   "cell_type": "markdown",
   "metadata": {},
   "source": [
    "#### `split` methode\n",
    "with `split` we can extract meaningful text from an irregular corpus"
   ]
  },
  {
   "cell_type": "code",
   "execution_count": 45,
   "metadata": {},
   "outputs": [
    {
     "name": "stdout",
     "output_type": "stream",
     "text": [
      "Data Science is super cool.\n"
     ]
    }
   ],
   "source": [
    "string = '''Data_Science; is,   super     cool.'''\n",
    "print(' '.join(re.split(r'[;,\\s_]+', string)))"
   ]
  },
  {
   "cell_type": "markdown",
   "metadata": {},
   "source": [
    "#### ToDo:\n",
    "- https://medium.com/free-code-camp/regular-expressions-demystified-regex-isnt-as-hard-as-it-looks-617b55cf787\n",
    "- https://medium.com/factory-mind/regex-cookbook-most-wanted-regex-aa721558c3c1"
   ]
  },
  {
   "cell_type": "code",
   "execution_count": null,
   "metadata": {},
   "outputs": [],
   "source": []
  }
 ],
 "metadata": {
  "kernelspec": {
   "display_name": "Python 3",
   "language": "python",
   "name": "python3"
  },
  "language_info": {
   "codemirror_mode": {
    "name": "ipython",
    "version": 3
   },
   "file_extension": ".py",
   "mimetype": "text/x-python",
   "name": "python",
   "nbconvert_exporter": "python",
   "pygments_lexer": "ipython3",
   "version": "3.7.4"
  }
 },
 "nbformat": 4,
 "nbformat_minor": 4
}
